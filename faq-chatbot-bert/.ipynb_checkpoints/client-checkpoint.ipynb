{
 "cells": [
  {
   "cell_type": "code",
   "execution_count": null,
   "metadata": {},
   "outputs": [],
   "source": [
    "%%time\n",
    "import requests, json\n",
    "# sample request\n",
    "data = {\"utterance\": \"i see user already exists in the system\"}\n",
    "# Hitting the API with a POST request\n",
    "ot = requests.post(url='http://localhost:5003/get_faq', json=data)\n",
    "print(ot.status_code)\n",
    "print(ot.headers)\n",
    "print(ot.json())\n",
    "# print(ot.json()['predicted_answer'])"
   ]
  }
 ],
 "metadata": {
  "kernelspec": {
   "display_name": "py35",
   "language": "python",
   "name": "py35"
  },
  "language_info": {
   "codemirror_mode": {
    "name": "ipython",
    "version": 3
   },
   "file_extension": ".py",
   "mimetype": "text/x-python",
   "name": "python",
   "nbconvert_exporter": "python",
   "pygments_lexer": "ipython3",
   "version": "3.5.5"
  }
 },
 "nbformat": 4,
 "nbformat_minor": 2
}
